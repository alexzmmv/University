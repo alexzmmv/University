{
  "cells": [
    {
      "cell_type": "markdown",
      "id": "b246b6ac",
      "metadata": {},
      "source": [
        "## A.I. Assignment 4\n",
        "\n",
        "## Learning Goals\n",
        "\n",
        "By the end of this lab, you should be able to:\n",
        "* Get familiar with tensors in pytorch\n",
        "* Get familiar with the activation functions for ANN \n",
        "* Create a simple perceptron model with pytorch\n",
        "\n"
      ]
    },
    {
      "cell_type": "markdown",
      "id": "8247d8bb",
      "metadata": {},
      "source": [
        "## Common activation functions for ANN:\n",
        "\n",
        "##### Sigmoid:\n",
        "\n",
        "The sigmoid function is a popular choice for activation functions in neural networks. It has an $S-shaped$ curve:\n",
        "$$f(x) = \\frac{1}{1+e^{-x}}.$$\n",
        "\n",
        "It has a number of appealing qualities:\n",
        "\n",
        "1. *Nonlinearity*: Because the sigmoid function is nonlinear, it enables the neural network to simulate nonlinear interactions between inputs and outputs. A neural network would simply be a linear model without a nonlinear activation function like sigmoid, which would significantly restrict its capacity to describe complex relationships.\n",
        "\n",
        "1. *Smoothness*: As the sigmoid function is differentiable and smooth, its derivative exist at every point. This is significant because it makes it possible for neural network training techniques based on gradients (such as backpropagation) to perform well.\n",
        "\n",
        "1. *Boundedness*: The sigmoid function is bounded between 0 and 1, it means  its outputs can be interpreted as probabilities.  It is most useful in applications like binary classification, where the goal is to predict whether an input belongs to one of two classes.\n",
        "\n",
        "1. *Monotonicity*: The sigmoid function is monotonic, which means that its outputs are always increasing or always decreasing with respect to its inputs. This makes it easy to interpret the effect of changes in input variables on the output of the network.\n",
        "\n",
        "##### ReLU (Rectified Linear Unit):\n",
        "\n",
        "The ReLU function is defined as $$f(x) = max(0, x).$$\n",
        "\n",
        "It is a widely used activation function in deep learning due to its simplicity and effectiveness.\n",
        "\n",
        "##### Tanh (Hyperbolic Tangent):\n",
        "\n",
        "The $\\tanh$ function is similar to the sigmoid function but produces outputs in the interval $[-1, 1]$:  \n",
        "$$f(x) = \\frac{e^{x}-e^{-x}}{e^{x}+e^{-x}}.$$\n",
        "\n",
        "##### Softmax:\n",
        "\n",
        "The softmax function is commonly used in the output layer of a neural network for multi-class classification problems. It normalizes the output into a probability distribution over the classes.\n",
        "\n",
        "Given a vector $\\vec{z}$ of $n$ real numbers, the softmax function calculates a vector $\\vec{s}$ of $n$ real numbers with the components:\n",
        "$$s_j = \\frac{e^{z_j}}{\\sum_{k=1}^{n} {e^{z_k}}}.$$\n",
        "\n",
        "\n",
        "##### Leaky ReLU:\n",
        "\n",
        "The Leaky ReLU is a variation of the ReLU function that introduces a small non-zero gradient for negative inputs. It is defined as \n",
        "$$f(x) = max(0.01 \\cdot x, x).$$\n",
        "\n",
        "##### ELU (Exponential Linear Unit):\n",
        "\n",
        "The ELU function is another variation of the ReLU function that introduces a small negative saturation value for negative inputs. It is defined as \n",
        "\n",
        "$$ f(x) = \\biggl\\{ \\begin{matrix} x, & for & x > 0 \\\\\n",
        "                      \\alpha \\cdot (e^{x} - 1), & for & x \\leq 0 \\end{matrix}$$\n",
        "where $\\alpha$ is a hyperparameter.\n",
        "\n",
        "##### Swish:\n",
        "\n",
        "The Swish function is a recent activation function that is a smooth approximation of the ReLU function. It is defined as f(x) = x * sigmoid(x).\n"
      ]
    },
    {
      "cell_type": "code",
      "execution_count": 96,
      "id": "68931328",
      "metadata": {},
      "outputs": [
        {
          "data": {
            "text/plain": [
              "False"
            ]
          },
          "execution_count": 96,
          "metadata": {},
          "output_type": "execute_result"
        }
      ],
      "source": [
        "import torch\n",
        "torch.cuda.is_available()"
      ]
    },
    {
      "cell_type": "markdown",
      "id": "93017ce5",
      "metadata": {},
      "source": [
        "create a tensor with requires_grad=True to tell PyTorch to track gradients for this tensor:"
      ]
    },
    {
      "cell_type": "code",
      "execution_count": 97,
      "id": "a14b6a39",
      "metadata": {},
      "outputs": [
        {
          "name": "stdout",
          "output_type": "stream",
          "text": [
            "tensor([2.], requires_grad=True)\n"
          ]
        }
      ],
      "source": [
        "x = torch.tensor([2.0], requires_grad=True)\n",
        "print(x)"
      ]
    },
    {
      "cell_type": "markdown",
      "id": "56340210",
      "metadata": {},
      "source": [
        "You can perform any operations on this tensor as usual:"
      ]
    },
    {
      "cell_type": "code",
      "execution_count": 98,
      "id": "99cb5a71",
      "metadata": {},
      "outputs": [
        {
          "name": "stdout",
          "output_type": "stream",
          "text": [
            "tensor([9.], grad_fn=<AddBackward0>)\n"
          ]
        }
      ],
      "source": [
        "y = x ** 2 + 2 * x + 1\n",
        "print(y)"
      ]
    },
    {
      "cell_type": "markdown",
      "id": "af8a18dc",
      "metadata": {},
      "source": [
        "To compute the gradients of y with respect to x, you need to call backward() on y:"
      ]
    },
    {
      "cell_type": "code",
      "execution_count": 99,
      "id": "8c244acf",
      "metadata": {},
      "outputs": [],
      "source": [
        "y.backward()"
      ]
    },
    {
      "cell_type": "code",
      "execution_count": 100,
      "id": "0e9b7e33",
      "metadata": {},
      "outputs": [
        {
          "data": {
            "text/plain": [
              "tensor([6.])"
            ]
          },
          "execution_count": 100,
          "metadata": {},
          "output_type": "execute_result"
        }
      ],
      "source": [
        "x.grad"
      ]
    },
    {
      "cell_type": "code",
      "execution_count": 101,
      "id": "87ce525b",
      "metadata": {},
      "outputs": [
        {
          "name": "stdout",
          "output_type": "stream",
          "text": [
            "tensor([1., 1., 1.])\n"
          ]
        }
      ],
      "source": [
        "import torch\n",
        "\n",
        "# Create a tensor with requires_grad=True\n",
        "x = torch.tensor([1., 2., 3.], requires_grad=True)\n",
        "\n",
        "# Compute a function of x\n",
        "y = x.sum()\n",
        "\n",
        "# Compute gradients of y with respect to x\n",
        "y.backward()\n",
        "\n",
        "# Print gradients of x\n",
        "print(x.grad)\n"
      ]
    },
    {
      "cell_type": "markdown",
      "id": "30804b8c",
      "metadata": {},
      "source": [
        "Exercise 1.\n",
        "\n",
        "Compute the gradient for the sigmoid activation function in 2 points using pytorch and check it with the known explicit formula "
      ]
    },
    {
      "cell_type": "code",
      "execution_count": 102,
      "id": "2dc94902",
      "metadata": {},
      "outputs": [
        {
          "name": "stdout",
          "output_type": "stream",
          "text": [
            "Point x=0:\n",
            "  Sigmoid value: 0.500000\n",
            "  PyTorch gradient: 0.250000\n",
            "  Explicit formula: 0.250000\n",
            "  Difference: 0.0000000000\n",
            "\n",
            "Point x=2:\n",
            "  Sigmoid value: 0.880797\n",
            "  PyTorch gradient: 0.104994\n",
            "  Explicit formula: 0.104994\n",
            "  Difference: 0.0000000596\n"
          ]
        }
      ],
      "source": [
        "import torch\n",
        "import numpy as np\n",
        "\n",
        "import matplotlib.pyplot as plt\n",
        "\n",
        "x1 = torch.tensor([0.0], requires_grad=True)\n",
        "x2 = torch.tensor([2.0], requires_grad=True)\n",
        "\n",
        "def sigmoid(x):\n",
        "    return 1 / (1 + torch.exp(-x))\n",
        "\n",
        "y1 = sigmoid(x1)\n",
        "y2 = sigmoid(x2)\n",
        "\n",
        "y1.backward()\n",
        "grad1_pytorch = x1.grad.item()\n",
        "\n",
        "\n",
        "x1.grad.zero_()\n",
        "\n",
        "y2.backward()\n",
        "grad2_pytorch = x2.grad.item()\n",
        "\n",
        "def sigmoid_derivative(x):\n",
        "    s = sigmoid(x)\n",
        "    return s * (1 - s)\n",
        "\n",
        "grad1_explicit = sigmoid_derivative(x1).item()\n",
        "grad2_explicit = sigmoid_derivative(x2).item()\n",
        "\n",
        "print(f\"Point x=0:\")\n",
        "print(f\"  Sigmoid value: {y1.item():.6f}\")\n",
        "print(f\"  PyTorch gradient: {grad1_pytorch:.6f}\")\n",
        "print(f\"  Explicit formula: {grad1_explicit:.6f}\")\n",
        "print(f\"  Difference: {abs(grad1_pytorch - grad1_explicit):.10f}\")\n",
        "\n",
        "print(f\"\\nPoint x=2:\")\n",
        "print(f\"  Sigmoid value: {y2.item():.6f}\")\n",
        "print(f\"  PyTorch gradient: {grad2_pytorch:.6f}\")\n",
        "print(f\"  Explicit formula: {grad2_explicit:.6f}\")\n",
        "print(f\"  Difference: {abs(grad2_pytorch - grad2_explicit):.10f}\")"
      ]
    },
    {
      "cell_type": "markdown",
      "id": "7e77a45c",
      "metadata": {},
      "source": [
        "Exercise 2.\n",
        "\n",
        "Compute the gradient for the linear activation function in 2 points using pytorch and check it with the known explicit formula"
      ]
    },
    {
      "cell_type": "code",
      "execution_count": 103,
      "id": "7054039e",
      "metadata": {},
      "outputs": [
        {
          "ename": "AttributeError",
          "evalue": "'NoneType' object has no attribute 'zero_'",
          "output_type": "error",
          "traceback": [
            "\u001b[0;31m---------------------------------------------------------------------------\u001b[0m",
            "\u001b[0;31mAttributeError\u001b[0m                            Traceback (most recent call last)",
            "Cell \u001b[0;32mIn[103], line 17\u001b[0m\n\u001b[1;32m     14\u001b[0m grad1_pytorch \u001b[38;5;241m=\u001b[39m x1\u001b[38;5;241m.\u001b[39mgrad\u001b[38;5;241m.\u001b[39mitem()\n\u001b[1;32m     16\u001b[0m x1\u001b[38;5;241m.\u001b[39mgrad\u001b[38;5;241m.\u001b[39mzero_()\n\u001b[0;32m---> 17\u001b[0m x2\u001b[38;5;241m.\u001b[39mgrad\u001b[38;5;241m.\u001b[39mzero_()\n\u001b[1;32m     19\u001b[0m y2\u001b[38;5;241m.\u001b[39mbackward()\n\u001b[1;32m     20\u001b[0m grad2_pytorch \u001b[38;5;241m=\u001b[39m x2\u001b[38;5;241m.\u001b[39mgrad\u001b[38;5;241m.\u001b[39mitem()\n",
            "\u001b[0;31mAttributeError\u001b[0m: 'NoneType' object has no attribute 'zero_'"
          ]
        }
      ],
      "source": [
        "import torch\n",
        "import numpy as np\n",
        "\n",
        "x1 = torch.tensor([0.0], requires_grad=True)\n",
        "x2 = torch.tensor([2.0], requires_grad=True)\n",
        "\n",
        "def linear(x):\n",
        "    return x\n",
        "\n",
        "y1 = linear(x1)\n",
        "y2 = linear(x2)\n",
        "\n",
        "y1.backward()\n",
        "grad1_pytorch = x1.grad.item()\n",
        "\n",
        "x1.grad.zero_()\n",
        "x2.grad.zero_()\n",
        "\n",
        "y2.backward()\n",
        "grad2_pytorch = x2.grad.item()\n",
        "\n",
        "def linear_derivative(x):\n",
        "    return torch.ones_like(x)\n",
        "\n",
        "grad1_explicit = linear_derivative(x1).item()\n",
        "grad2_explicit = linear_derivative(x2).item()\n",
        "\n",
        "print(f\"Point x=0:\")\n",
        "print(f\"  Linear value: {y1.item():.6f}\")\n",
        "print(f\"  PyTorch gradient: {grad1_pytorch:.6f}\")\n",
        "print(f\"  Explicit formula: {grad1_explicit:.6f}\")\n",
        "print(f\"  Difference: {abs(grad1_pytorch - grad1_explicit):.10f}\")\n",
        "\n",
        "print(f\"\\nPoint x=2:\")\n",
        "print(f\"  Linear value: {y2.item():.6f}\")\n",
        "print(f\"  PyTorch gradient: {grad2_pytorch:.6f}\")\n",
        "print(f\"  Explicit formula: {grad2_explicit:.6f}\")\n",
        "print(f\"  Difference: {abs(grad2_pytorch - grad2_explicit):.10f}\")"
      ]
    },
    {
      "cell_type": "markdown",
      "id": "dab117e3",
      "metadata": {},
      "source": [
        "Execise 3.\n",
        "\n",
        "Compute the gradient for the relu activation function in 2 points using pytorch and check it with the known explicit formula."
      ]
    },
    {
      "cell_type": "code",
      "execution_count": null,
      "id": "1f69f4c5",
      "metadata": {},
      "outputs": [],
      "source": [
        "import torch\n",
        "import numpy as np\n",
        "\n",
        "x1 = torch.tensor([-1.0], requires_grad=True)\n",
        "x2 = torch.tensor([2.0], requires_grad=True)\n",
        "\n",
        "def relu(x):\n",
        "    return torch.max(torch.zeros_like(x), x)\n",
        "\n",
        "y1 = relu(x1)\n",
        "y2 = relu(x2)\n",
        "\n",
        "y1.backward()\n",
        "grad1_pytorch = x1.grad.item()\n",
        "\n",
        "x1.grad.zero_()\n",
        "x2.grad.zero_()\n",
        "\n",
        "y2.backward()\n",
        "grad2_pytorch = x2.grad.item()\n",
        "\n",
        "def relu_derivative(x):\n",
        "    return (x > 0).float()\n",
        "\n",
        "grad1_explicit = relu_derivative(x1).item()\n",
        "grad2_explicit = relu_derivative(x2).item()\n",
        "\n",
        "print(f\"Point x=-1:\")\n",
        "print(f\"  ReLU value: {y1.item():.6f}\")\n",
        "print(f\"  PyTorch gradient: {grad1_pytorch:.6f}\")\n",
        "print(f\"  Explicit formula: {grad1_explicit:.6f}\")\n",
        "print(f\"  Difference: {abs(grad1_pytorch - grad1_explicit):.10f}\")\n",
        "\n",
        "print(f\"\\nPoint x=2:\")\n",
        "print(f\"  ReLU value: {y2.item():.6f}\")\n",
        "print(f\"  PyTorch gradient: {grad2_pytorch:.6f}\")\n",
        "print(f\"  Explicit formula: {grad2_explicit:.6f}\")\n",
        "print(f\"  Difference: {abs(grad2_pytorch - grad2_explicit):.10f}\")"
      ]
    },
    {
      "cell_type": "markdown",
      "id": "ef985f68",
      "metadata": {},
      "source": [
        "Exercise 4. \n",
        "\n",
        "Write in python a function to plot the sigmoid activation function and its gradient using matplotlib"
      ]
    },
    {
      "cell_type": "code",
      "execution_count": null,
      "id": "6c645aaf",
      "metadata": {},
      "outputs": [],
      "source": [
        "import torch\n",
        "import numpy as np\n",
        "\n",
        "import matplotlib.pyplot as plt\n",
        "\n",
        "def plot_sigmoid_and_gradient():\n",
        "    # Create x values\n",
        "    x = np.linspace(-10, 10, 1000)\n",
        "    \n",
        "    # Convert to torch tensor for computation\n",
        "    x_tensor = torch.tensor(x, requires_grad=False)\n",
        "    \n",
        "    # Calculate sigmoid\n",
        "    sigmoid_x = 1 / (1 + torch.exp(-x_tensor))\n",
        "    \n",
        "    # Calculate derivative of sigmoid\n",
        "    sigmoid_derivative = sigmoid_x * (1 - sigmoid_x)\n",
        "    \n",
        "    # Create a figure with two subplots\n",
        "    fig, (ax1, ax2) = plt.subplots(1, 2, figsize=(12, 5))\n",
        "    \n",
        "    # Plot sigmoid in the first subplot\n",
        "    ax1.plot(x, sigmoid_x.numpy(), 'b-', linewidth=2)\n",
        "    ax1.set_title('Sigmoid Function')\n",
        "    ax1.set_xlabel('x')\n",
        "    ax1.set_ylabel('sigmoid(x)')\n",
        "    ax1.grid(True)\n",
        "    ax1.axhline(y=0, color='k', linestyle='-', alpha=0.3)\n",
        "    ax1.axhline(y=1, color='k', linestyle='-', alpha=0.3)\n",
        "    ax1.axhline(y=0.5, color='k', linestyle='--', alpha=0.3)\n",
        "    ax1.axvline(x=0, color='k', linestyle='-', alpha=0.3)\n",
        "    \n",
        "    # Plot sigmoid derivative in the second subplot\n",
        "    ax2.plot(x, sigmoid_derivative.numpy(), 'r-', linewidth=2)\n",
        "    ax2.set_title('Sigmoid Derivative')\n",
        "    ax2.set_xlabel('x')\n",
        "    ax2.set_ylabel('sigmoid\\'(x)')\n",
        "    ax2.grid(True)\n",
        "    ax2.axhline(y=0, color='k', linestyle='-', alpha=0.3)\n",
        "    ax2.axhline(y=0.25, color='k', linestyle='--', alpha=0.3)\n",
        "    ax2.axvline(x=0, color='k', linestyle='-', alpha=0.3)\n",
        "    \n",
        "    plt.tight_layout()\n",
        "    plt.show()\n",
        "\n",
        "# Call the function to generate the plots\n",
        "plot_sigmoid_and_gradient()"
      ]
    },
    {
      "cell_type": "markdown",
      "id": "51202a51",
      "metadata": {},
      "source": [
        "Exercise 5. \n",
        "\n",
        "Write in python a function to plot the ReLU activation function and its gradient using matplotlib."
      ]
    },
    {
      "cell_type": "code",
      "execution_count": null,
      "id": "99e49c47",
      "metadata": {},
      "outputs": [],
      "source": [
        "import torch\n",
        "import numpy as np\n",
        "\n",
        "import matplotlib.pyplot as plt\n",
        "\n",
        "def plot_relu_and_gradient():\n",
        "    x = np.linspace(-10, 10, 1000)\n",
        "    x_tensor = torch.tensor(x, requires_grad=False)\n",
        "    relu_x = torch.maximum(torch.zeros_like(x_tensor), x_tensor)\n",
        "    relu_derivative = (x_tensor > 0).float()\n",
        "    \n",
        "    fig, (ax1, ax2) = plt.subplots(1, 2, figsize=(12, 5))\n",
        "    \n",
        "    ax1.plot(x, relu_x.numpy(), 'b-', linewidth=2)\n",
        "    ax1.set_title('ReLU Function')\n",
        "    ax1.set_xlabel('x')\n",
        "    ax1.set_ylabel('ReLU(x)')\n",
        "    ax1.grid(True)\n",
        "    ax1.axhline(y=0, color='k', linestyle='-', alpha=0.3)\n",
        "    ax1.axvline(x=0, color='k', linestyle='-', alpha=0.3)\n",
        "    \n",
        "    ax2.plot(x, relu_derivative.numpy(), 'r-', linewidth=2)\n",
        "    ax2.set_title('ReLU Derivative')\n",
        "    ax2.set_xlabel('x')\n",
        "    ax2.set_ylabel('ReLU\\'(x)')\n",
        "    ax2.grid(True)\n",
        "    ax2.axhline(y=0, color='k', linestyle='-', alpha=0.3)\n",
        "    ax2.axhline(y=1, color='k', linestyle='--', alpha=0.3)\n",
        "    ax2.axvline(x=0, color='k', linestyle='-', alpha=0.3)\n",
        "    \n",
        "    plt.tight_layout()\n",
        "    plt.show()\n",
        "\n",
        "plot_relu_and_gradient()"
      ]
    },
    {
      "cell_type": "markdown",
      "id": "c81684ff",
      "metadata": {},
      "source": [
        "Exercise 6. \n",
        "\n",
        "Write in python a function to plot the tanh activation function and its gradient using matplotlib."
      ]
    },
    {
      "cell_type": "code",
      "execution_count": null,
      "id": "559d421d",
      "metadata": {},
      "outputs": [
        {
          "data": {
            "image/png": "[encoded data removed]",
            "text/plain": [
              "<Figure size 1200x500 with 2 Axes>"
            ]
          },
          "metadata": {},
          "output_type": "display_data"
        }
      ],
      "source": [
        "import torch\n",
        "import numpy as np\n",
        "\n",
        "import matplotlib.pyplot as plt\n",
        "\n",
        "def plot_tanh_and_gradient():\n",
        "    x = np.linspace(-10, 10, 1000)\n",
        "    \n",
        "    x_tensor = torch.tensor(x, requires_grad=False)\n",
        "    tanh_x = torch.tanh(x_tensor)\n",
        "    tanh_derivative = 1 - tanh_x**2\n",
        "    \n",
        "    fig, (ax1, ax2) = plt.subplots(1, 2, figsize=(12, 5))\n",
        "    \n",
        "    ax1.plot(x, tanh_x.numpy(), 'b-', linewidth=2)\n",
        "    ax1.set_title('Tanh Function')\n",
        "    ax1.set_xlabel('x')\n",
        "    ax1.set_ylabel('tanh(x)')\n",
        "    ax1.grid(True)\n",
        "    ax1.axhline(y=0, color='k', linestyle='-', alpha=0.3)\n",
        "    ax1.axhline(y=1, color='k', linestyle='-', alpha=0.3)\n",
        "    ax1.axhline(y=-1, color='k', linestyle='-', alpha=0.3)\n",
        "    ax1.axvline(x=0, color='k', linestyle='-', alpha=0.3)\n",
        "    \n",
        "    ax2.plot(x, tanh_derivative.numpy(), 'r-', linewidth=2)\n",
        "    ax2.set_title('Tanh Derivative')\n",
        "    ax2.set_xlabel('x')\n",
        "    ax2.set_ylabel('tanh\\'(x)')\n",
        "    ax2.grid(True)\n",
        "    ax2.axhline(y=0, color='k', linestyle='-', alpha=0.3)\n",
        "    ax2.axhline(y=1, color='k', linestyle='-', alpha=0.3)\n",
        "    ax2.axvline(x=0, color='k', linestyle='-', alpha=0.3)\n",
        "    \n",
        "    plt.tight_layout()\n",
        "    plt.show()\n",
        "\n",
        "plot_tanh_and_gradient()"
      ]
    },
    {
      "cell_type": "markdown",
      "id": "8740a0a8",
      "metadata": {},
      "source": [
        "Exercise 7. \n",
        "\n",
        "Write in python a function to plot the leaky ReLU activation function and its gradient using matplotlib."
      ]
    },
    {
      "cell_type": "code",
      "execution_count": null,
      "id": "7b455646",
      "metadata": {},
      "outputs": [],
      "source": [
        "import torch\n",
        "import numpy as np\n",
        "\n",
        "import matplotlib.pyplot as plt\n",
        "\n",
        "def plot_leaky_relu_and_gradient(alpha=0.01):\n",
        "    x = np.linspace(-10, 10, 1000)\n",
        "    x_tensor = torch.tensor(x, requires_grad=False)\n",
        "    leaky_relu_x = torch.maximum(alpha * x_tensor, x_tensor)\n",
        "    \n",
        "    leaky_relu_derivative = torch.ones_like(x_tensor)\n",
        "    leaky_relu_derivative[x_tensor < 0] = alpha\n",
        "    \n",
        "    fig, (ax1, ax2) = plt.subplots(1, 2, figsize=(12, 5))\n",
        "    \n",
        "    ax1.plot(x, leaky_relu_x.numpy(), 'b-', linewidth=2)\n",
        "    ax1.set_title('Leaky ReLU Function')\n",
        "    ax1.set_xlabel('x')\n",
        "    ax1.set_ylabel('Leaky ReLU(x)')\n",
        "    ax1.grid(True)\n",
        "    ax1.axhline(y=0, color='k', linestyle='-', alpha=0.3)\n",
        "    ax1.axvline(x=0, color='k', linestyle='-', alpha=0.3)\n",
        "    \n",
        "    ax2.plot(x, leaky_relu_derivative.numpy(), 'r-', linewidth=2)\n",
        "    ax2.set_title('Leaky ReLU Derivative')\n",
        "    ax2.set_xlabel('x')\n",
        "    ax2.set_ylabel('Leaky ReLU\\'(x)')\n",
        "    ax2.grid(True)\n",
        "    ax2.axhline(y=0, color='k', linestyle='-', alpha=0.3)\n",
        "    ax2.axhline(y=1, color='k', linestyle='--', alpha=0.3)\n",
        "    ax2.axhline(y=alpha, color='k', linestyle='--', alpha=0.3)\n",
        "    ax2.axvline(x=0, color='k', linestyle='-', alpha=0.3)\n",
        "    \n",
        "    plt.tight_layout()\n",
        "    plt.show()\n",
        "\n",
        "plot_leaky_relu_and_gradient()"
      ]
    },
    {
      "cell_type": "markdown",
      "id": "4e33119c",
      "metadata": {},
      "source": [
        "## Perceptron\n",
        "\n",
        "We define a class called *Perceptron* that inherits from *torch.nn.Module*. \n",
        "\n",
        "In the constructor, we define a single fully-connected linear layer with $input_dim$ inputs and $output_dim$ outputs, and a $sigmoid$ activation function. In the forward method, we apply the linear transformation to the input $x$, and then apply the sigmoid activation function to the output.\n",
        "\n"
      ]
    },
    {
      "cell_type": "code",
      "execution_count": null,
      "id": "aa86d7c0",
      "metadata": {},
      "outputs": [],
      "source": [
        "import torch\n",
        "import torch.nn as nn\n",
        "\n",
        "input_size = 2\n",
        "output_size = 1\n",
        "\n",
        "class Perceptron(torch.nn.Module):\n",
        "    def __init__(self, input_dim, output_dim):\n",
        "        super(Perceptron, self).__init__()\n",
        "        self.linear = torch.nn.Linear(input_dim, output_dim)\n",
        "        self.activation = torch.nn.Sigmoid()\n",
        "        \n",
        "    def forward(self, x):\n",
        "        x = self.linear(x)\n",
        "        x = self.activation(x)\n",
        "        return x\n"
      ]
    },
    {
      "cell_type": "markdown",
      "id": "a178820e",
      "metadata": {},
      "source": [
        " We create an instance of this model and use it to make predictions like this:"
      ]
    },
    {
      "cell_type": "code",
      "execution_count": null,
      "id": "78513e21",
      "metadata": {},
      "outputs": [
        {
          "name": "stdout",
          "output_type": "stream",
          "text": [
            "tensor([0.6975], grad_fn=<SigmoidBackward0>)\n"
          ]
        }
      ],
      "source": [
        "perceptron = Perceptron(input_size, output_size)\n",
        "x = torch.tensor([0.5, 0.2])\n",
        "y = perceptron(x)\n",
        "print(y)\n"
      ]
    },
    {
      "cell_type": "code",
      "execution_count": null,
      "id": "54070b51",
      "metadata": {},
      "outputs": [
        {
          "name": "stdout",
          "output_type": "stream",
          "text": [
            "Epoch [100/1000], Loss: 0.6210\n",
            "Epoch [200/1000], Loss: 0.5954\n",
            "Epoch [300/1000], Loss: 0.5888\n",
            "Epoch [400/1000], Loss: 0.5869\n",
            "Epoch [500/1000], Loss: 0.5863\n",
            "Epoch [600/1000], Loss: 0.5861\n",
            "Epoch [700/1000], Loss: 0.5861\n",
            "Epoch [800/1000], Loss: 0.5861\n",
            "Epoch [900/1000], Loss: 0.5861\n",
            "Epoch [1000/1000], Loss: 0.5861\n"
          ]
        }
      ],
      "source": [
        "\n",
        "criterion = nn.BCELoss()  \n",
        "optimizer = torch.optim.SGD(perceptron.parameters(), lr=0.1) \n",
        "\n",
        "input_data = torch.randn((10, input_size))\n",
        "labels = torch.randint(0, 2, (10, output_size)).float()\n",
        "\n",
        "num_epochs = 1000\n",
        "for epoch in range(num_epochs):\n",
        "    outputs = perceptron(input_data)\n",
        "    loss = criterion(outputs, labels)\n",
        "\n",
        "    optimizer.zero_grad()\n",
        "    loss.backward()\n",
        "    optimizer.step()\n",
        "\n",
        "    if (epoch + 1) % 100 == 0:\n",
        "        print(f'Epoch [{epoch+1}/{num_epochs}], Loss: {loss.item():.4f}')"
      ]
    },
    {
      "cell_type": "markdown",
      "id": "75b840f4",
      "metadata": {},
      "source": [
        "Exercise 8: \n",
        "\n",
        "Implement a binary classification model using the Perceptron class in PyTorch for the logic OR. \n",
        "\n",
        "Your task is to create a Perceptron instance and train it using a proper  dataset and the binary cross-entropy loss with stochastic gradient descent optimizer. \n",
        "\n",
        "Here are the steps you can follow:\n",
        "\n",
        "Define a Perceptron class that inherits from torch.nn.Module and implements a binary classification model.\n",
        "\n",
        "Define a binary cross-entropy loss function using the torch.nn.BCEWithLogitsLoss module.\n",
        "\n",
        "Define a stochastic gradient descent optimizer using the torch.optim.SGD module.\n",
        "\n",
        "Train the Perceptron model on the training set using the binary cross-entropy loss and stochastic gradient descent optimizer.\n",
        "\n",
        "Evaluate the trained model compute the accuracy.\n"
      ]
    },
    {
      "cell_type": "code",
      "execution_count": 109,
      "id": "dc3c5d3e",
      "metadata": {},
      "outputs": [
        {
          "name": "stdout",
          "output_type": "stream",
          "text": [
            "Epoch [50/1000], Loss: 0.6461\n",
            "Epoch [100/1000], Loss: 0.6306\n",
            "Epoch [150/1000], Loss: 0.6213\n",
            "Epoch [200/1000], Loss: 0.6108\n",
            "Epoch [250/1000], Loss: 0.5974\n",
            "Epoch [300/1000], Loss: 0.5801\n",
            "Epoch [350/1000], Loss: 0.5594\n",
            "Epoch [400/1000], Loss: 0.5362\n",
            "Epoch [450/1000], Loss: 0.5110\n",
            "Epoch [500/1000], Loss: 0.4847\n",
            "Epoch [550/1000], Loss: 0.4565\n",
            "Epoch [600/1000], Loss: 0.4259\n",
            "Epoch [650/1000], Loss: 0.3926\n",
            "Epoch [700/1000], Loss: 0.3568\n",
            "Epoch [750/1000], Loss: 0.3239\n",
            "Epoch [800/1000], Loss: 0.3056\n",
            "Epoch [850/1000], Loss: 0.2929\n",
            "Epoch [900/1000], Loss: 0.2847\n",
            "Epoch [950/1000], Loss: 0.2779\n",
            "Epoch [1000/1000], Loss: 0.2738\n",
            "\n",
            "Model evaluation:\n",
            "Inputs:\n",
            "tensor([[0., 0.],\n",
            "        [0., 1.],\n",
            "        [1., 0.],\n",
            "        [1., 1.]])\n",
            "Target outputs:\n",
            "tensor([[0., 0.],\n",
            "        [0., 1.],\n",
            "        [0., 1.],\n",
            "        [1., 0.]])\n",
            "Predicted outputs (raw):\n",
            "tensor([[0.0539, 0.6329],\n",
            "        [0.0539, 0.6329],\n",
            "        [0.0539, 0.6329],\n",
            "        [0.9560, 0.0582]])\n",
            "Predicted outputs (classified):\n",
            "tensor([[0., 1.],\n",
            "        [0., 1.],\n",
            "        [0., 1.],\n",
            "        [1., 0.]])\n",
            "Accuracy: 0.8750\n"
          ]
        },
        {
          "data": {
            "image/png": "[encoded data removed]",
            "text/plain": [
              "<Figure size 1000x500 with 1 Axes>"
            ]
          },
          "metadata": {},
          "output_type": "display_data"
        }
      ],
      "source": [
        "numt = 1000\n",
        "hln = 1 \n",
        "hls = 1\n",
        "import torch\n",
        "import numpy as np\n",
        "\n",
        "import torch.nn as nn\n",
        "import matplotlib.pyplot as plt\n",
        "\n",
        "class Perceptron(nn.Module):\n",
        "    def __init__(self, input_dim, output_dim, hidden_size=4, hidden_layers=1):\n",
        "        super(Perceptron, self).__init__()\n",
        "        self.layers = nn.ModuleList()\n",
        "        \n",
        "        self.layers.append(nn.Linear(input_dim, hidden_size))\n",
        "        \n",
        "        for i in range(hidden_layers - 1):\n",
        "            self.layers.append(nn.Linear(hidden_size, hidden_size))\n",
        "            \n",
        "        self.layers.append(nn.Linear(hidden_size, output_dim))\n",
        "        \n",
        "        self.activation = nn.Sigmoid()\n",
        "        \n",
        "    def forward(self, x):\n",
        "        for i in range(len(self.layers) - 1):\n",
        "            x = torch.relu(self.layers[i](x))\n",
        "            \n",
        "        x = self.layers[-1](x)\n",
        "        x = self.activation(x)\n",
        "        return x\n",
        "\n",
        "X_train = torch.tensor([[0, 0], [0, 1], [1, 0], [1, 1]], dtype=torch.float32)\n",
        "y_train = torch.tensor([[0,0], [0,1], [0,1], [1,0]], dtype=torch.float32)\n",
        "\n",
        "input_size = 2\n",
        "output_size = 2\n",
        "model = Perceptron(input_size, output_size, hidden_size=hls, hidden_layers=hln)\n",
        "criterion = nn.BCELoss()\n",
        "optimizer = torch.optim.SGD(model.parameters(), lr=0.1)\n",
        "\n",
        "losses = []\n",
        "\n",
        "for epoch in range(numt):\n",
        "    outputs = model(X_train)\n",
        "    loss = criterion(outputs, y_train)\n",
        "    losses.append(loss.item())\n",
        "    \n",
        "    optimizer.zero_grad()\n",
        "    loss.backward()\n",
        "    optimizer.step()\n",
        "    \n",
        "    if (epoch+1) % 50 == 0:\n",
        "        print(f'Epoch [{epoch+1}/{numt}], Loss: {loss.item():.4f}')\n",
        "\n",
        "with torch.no_grad():\n",
        "    y_pred = model(X_train)\n",
        "    y_pred_class = (y_pred > 0.5).float()\n",
        "    accuracy = (y_pred_class == y_train).float().mean()\n",
        "    \n",
        "    print(f'\\nModel evaluation:')\n",
        "    print(f'Inputs:')\n",
        "    print(X_train)\n",
        "    print(f'Target outputs:')\n",
        "    print(y_train)\n",
        "    print(f'Predicted outputs (raw):')\n",
        "    print(y_pred)\n",
        "    print(f'Predicted outputs (classified):')\n",
        "    print(y_pred_class)\n",
        "    print(f'Accuracy: {accuracy.item():.4f}')\n",
        "\n",
        "plt.figure(figsize=(10, 5))\n",
        "plt.plot(losses)\n",
        "plt.title('Training Loss')\n",
        "plt.xlabel('Epoch')\n",
        "plt.ylabel('Loss')\n",
        "plt.grid(True)\n",
        "plt.show()\n"
      ]
    }
  ],
  "metadata": {
    "kernel_info": {
      "name": "python"
    },
    "kernelspec": {
      "display_name": "Python [conda env:base] *",
      "language": "python",
      "name": "conda-base-py"
    },
    "nteract": {
      "version": "nteract-front-end@1.0.0"
    }
  },
  "nbformat": 4,
  "nbformat_minor": 5
}
