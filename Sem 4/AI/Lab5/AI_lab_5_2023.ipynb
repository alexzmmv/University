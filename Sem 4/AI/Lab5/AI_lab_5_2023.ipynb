{
 "cells": [
  {
   "cell_type": "markdown",
   "id": "b8210b19",
   "metadata": {},
   "source": [
    "## A.I. Assignment 5\n",
    "\n",
    "## Learning Goals\n",
    "\n",
    "By the end of this lab, you should be able to:\n",
    "* Get more familiar with tensors in pytorch \n",
    "* Create a simple multilayer perceptron model with pytorch\n",
    "* Visualise the parameters\n",
    "\n",
    "\n",
    "### Task\n",
    "\n",
    "Build a fully connected feed forward network that adds two bits. Determine the a propper achitecture for this network (what database you use for this problem? how many layers? how many neurons on each layer? what is the activation function? what is the loss function? etc)\n",
    "\n",
    "Create at least 3 such networks and compare their performance (how accurate they are?, how farst they are trained to get at 1 accuracy?)\n",
    "\n",
    "Display for the best one the weights for each layer.\n"
   ]
  },
  {
   "cell_type": "code",
   "execution_count": 1,
   "id": "e3614e5f",
   "metadata": {},
   "outputs": [],
   "source": [
    "import torch\n",
    "import torch.nn as nn\n",
    "from collections import OrderedDict\n"
   ]
  },
  {
   "cell_type": "code",
   "execution_count": null,
   "id": "f81cb55e",
   "metadata": {},
   "outputs": [],
   "source": []
  },
  {
   "cell_type": "code",
   "execution_count": 2,
   "id": "5ee7e7d7",
   "metadata": {},
   "outputs": [],
   "source": [
    "model1 = nn.Sequential(OrderedDict([\n",
    "    ('hidden1', nn.Linear(2, 4)),\n",
    "    ('activation1', nn.ReLU()),\n",
    "    ('hidden2', nn.Linear(4, 2)),\n",
    "    ('activation2', nn.ReLU()),\n",
    "    ('output', nn.Linear(2, 2)),\n",
    "    ('sigmoid', nn.Sigmoid()) \n",
    "]))\n",
    "\n",
    "model2 = nn.Sequential(OrderedDict([\n",
    "    ('hidden', nn.Linear(2, 3)),\n",
    "    ('activation', nn.ReLU()),\n",
    "    ('output', nn.Linear(3, 2)),\n",
    "    ('sigmoid', nn.Sigmoid())\n",
    "]))\n",
    "\n",
    "model3 = nn.Sequential(OrderedDict([\n",
    "    ('hidden1', nn.Linear(2, 8)),\n",
    "    ('activation1', nn.ReLU()),\n",
    "    ('hidden2', nn.Linear(8, 8)),\n",
    "    ('activation2', nn.ReLU()),\n",
    "    ('output', nn.Linear(8, 2)),\n",
    "    ('sigmoid', nn.Sigmoid())\n",
    "]))\n",
    "\n",
    "model=model1\n",
    "epoch=2000\n",
    "learning_rate=0.01"
   ]
  },
  {
   "cell_type": "code",
   "execution_count": 3,
   "id": "665ae958",
   "metadata": {},
   "outputs": [
    {
     "name": "stdout",
     "output_type": "stream",
     "text": [
      "Sequential(\n",
      "  (hidden1): Linear(in_features=2, out_features=4, bias=True)\n",
      "  (activation1): ReLU()\n",
      "  (hidden2): Linear(in_features=4, out_features=2, bias=True)\n",
      "  (activation2): ReLU()\n",
      "  (output): Linear(in_features=2, out_features=2, bias=True)\n",
      "  (sigmoid): Sigmoid()\n",
      ")\n"
     ]
    }
   ],
   "source": [
    "print(model)"
   ]
  },
  {
   "cell_type": "code",
   "execution_count": 4,
   "id": "e26f0d3e",
   "metadata": {},
   "outputs": [
    {
     "name": "stdout",
     "output_type": "stream",
     "text": [
      "tensor([[0, 0],\n",
      "        [0, 1],\n",
      "        [1, 0],\n",
      "        [1, 1]])\n"
     ]
    }
   ],
   "source": [
    "# your code here\n",
    "#data_in = torch.tensor( ...\n",
    "data_in = torch.tensor([[0,0],[0,1],[1,0],[1,1]])\n",
    "print(data_in)"
   ]
  },
  {
   "cell_type": "code",
   "execution_count": 5,
   "id": "4fb16bbc",
   "metadata": {},
   "outputs": [
    {
     "name": "stdout",
     "output_type": "stream",
     "text": [
      "tensor([[0, 0],\n",
      "        [1, 0],\n",
      "        [1, 0],\n",
      "        [0, 0]])\n"
     ]
    }
   ],
   "source": [
    "# your code here\n",
    "data_target = torch.tensor([[0,0],[1,0],[1,0],[0,0]])\n",
    "\n",
    "print(data_target)"
   ]
  },
  {
   "cell_type": "code",
   "execution_count": 6,
   "id": "69d920ed",
   "metadata": {},
   "outputs": [],
   "source": [
    "# your code here\n",
    "criterion = nn.MSELoss()\n",
    "optimizer = torch.optim.Adam(model.parameters(), lr=learning_rate)\n"
   ]
  },
  {
   "cell_type": "code",
   "execution_count": 7,
   "id": "cde91f6f",
   "metadata": {},
   "outputs": [
    {
     "name": "stdout",
     "output_type": "stream",
     "text": [
      "Epoch 0, Loss: 0.18462201952934265\n",
      "Epoch 100, Loss: 0.1002073660492897\n",
      "Epoch 200, Loss: 0.08365438133478165\n",
      "Epoch 300, Loss: 0.08346957713365555\n",
      "Epoch 400, Loss: 0.08341974020004272\n",
      "Epoch 500, Loss: 0.08338891714811325\n",
      "Epoch 600, Loss: 0.08341211825609207\n",
      "Epoch 700, Loss: 0.08337251842021942\n",
      "Epoch 800, Loss: 0.08336027711629868\n",
      "Epoch 900, Loss: 0.08335459977388382\n",
      "Epoch 1000, Loss: 0.08335059881210327\n",
      "Epoch 1100, Loss: 0.08334766328334808\n",
      "Epoch 1200, Loss: 0.08334542065858841\n",
      "Epoch 1300, Loss: 0.08334366232156754\n",
      "Epoch 1400, Loss: 0.08334226906299591\n",
      "Epoch 1500, Loss: 0.08334112167358398\n",
      "Epoch 1600, Loss: 0.08334019035100937\n",
      "Epoch 1700, Loss: 0.0833394005894661\n",
      "Epoch 1800, Loss: 0.08333873003721237\n",
      "Epoch 1900, Loss: 0.08333815634250641\n",
      "\n",
      "Rounded test output:\n",
      "tensor([[0., 0.],\n",
      "        [1., 0.],\n",
      "        [0., 0.],\n",
      "        [0., 0.]])\n",
      "\n",
      "Expected outputs:\n",
      "tensor([[0, 0],\n",
      "        [1, 0],\n",
      "        [1, 0],\n",
      "        [0, 0]])\n"
     ]
    }
   ],
   "source": [
    "# your code here\n",
    "# Train the model\n",
    "\n",
    "# Convert tensors to float type \n",
    "data_in_float = data_in.float()\n",
    "data_target_float = data_target.float()\n",
    "\n",
    "for epoch in range(epoch):\n",
    "    optimizer.zero_grad()  \n",
    "    output = model(data_in_float)  \n",
    "    loss = criterion(output, data_target_float)  \n",
    "    loss.backward()  \n",
    "    optimizer.step() \n",
    "\n",
    "    if epoch % 100 == 0:\n",
    "        print(f'Epoch {epoch}, Loss: {loss.item()}')\n",
    "# Test the model\n",
    "with torch.no_grad():\n",
    "    test_input = torch.tensor([[0, 0], [0, 1], [1, 0], [1, 1]], dtype=torch.float)\n",
    "    test_output = model(test_input)\n",
    "    \n",
    "    # Show rounded predictions for clearer understanding of binary outputs\n",
    "    print(\"\\nRounded test output:\")\n",
    "    rounded_output = torch.round(test_output)\n",
    "    print(rounded_output)\n",
    "    \n",
    "    # Compare with target data to evaluate accuracy\n",
    "    print(\"\\nExpected outputs:\")\n",
    "    print(data_target)"
   ]
  },
  {
   "cell_type": "code",
   "execution_count": 8,
   "id": "dff3ec1a",
   "metadata": {},
   "outputs": [],
   "source": [
    "# Save the model\n",
    "torch.save(model.state_dict(), 'model.pth')\n",
    "# Load the model\n",
    "loaded_model = nn.Sequential(OrderedDict([\n",
    "    ('hidden1', nn.Linear(2, 8)),\n",
    "    ('activation1', nn.ReLU()),\n",
    "    ('hidden2', nn.Linear(8, 8)),\n",
    "    ('activation2', nn.ReLU()),\n",
    "    ('output', nn.Linear(8, 2)),\n",
    "    ('sigmoid', nn.Sigmoid())\n",
    "]))"
   ]
  },
  {
   "cell_type": "code",
   "execution_count": 9,
   "id": "c1a7518b",
   "metadata": {},
   "outputs": [
    {
     "data": {
      "text/plain": [
       "Sequential(\n",
       "  (hidden1): Linear(in_features=2, out_features=4, bias=True)\n",
       "  (activation1): ReLU()\n",
       "  (hidden2): Linear(in_features=4, out_features=2, bias=True)\n",
       "  (activation2): ReLU()\n",
       "  (output): Linear(in_features=2, out_features=2, bias=True)\n",
       "  (sigmoid): Sigmoid()\n",
       ")"
      ]
     },
     "execution_count": 9,
     "metadata": {},
     "output_type": "execute_result"
    }
   ],
   "source": [
    "# your code here\n",
    "# Save the model\n",
    "torch.save(model.state_dict(), 'model.pth')\n",
    "# Load the model\n",
    "model_loaded = model\n",
    "model_loaded.load_state_dict(torch.load('model.pth'))\n",
    "model_loaded.eval()\n"
   ]
  },
  {
   "cell_type": "code",
   "execution_count": null,
   "id": "4cdf09ba",
   "metadata": {},
   "outputs": [],
   "source": []
  }
 ],
 "metadata": {
  "kernelspec": {
   "display_name": "Python [conda env:base] *",
   "language": "python",
   "name": "conda-base-py"
  },
  "language_info": {
   "codemirror_mode": {
    "name": "ipython",
    "version": 3
   },
   "file_extension": ".py",
   "mimetype": "text/x-python",
   "name": "python",
   "nbconvert_exporter": "python",
   "pygments_lexer": "ipython3",
   "version": "3.12.7"
  }
 },
 "nbformat": 4,
 "nbformat_minor": 5
}
